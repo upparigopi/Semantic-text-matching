{
 "cells": [
  {
   "cell_type": "code",
   "execution_count": 3,
   "metadata": {},
   "outputs": [],
   "source": [
    "#To ignore warnings \n",
    "import warnings\n",
    "warnings.filterwarnings('ignore')"
   ]
  },
  {
   "cell_type": "code",
   "execution_count": 4,
   "metadata": {},
   "outputs": [],
   "source": [
    "import pandas as pd\n",
    "import seaborn as sns\n",
    "import matplotlib.pyplot as plt\n",
    "import numpy as np\n",
    "\n",
    "import re\n",
    "from nltk.corpus import stopwords\n",
    "import string\n",
    "from nltk.stem import PorterStemmer\n",
    "import nltk\n",
    "\n",
    "from fuzzywuzzy import fuzz\n",
    "from datetime import datetime\n",
    "\n",
    "from sklearn.model_selection import train_test_split\n",
    "import spacy\n",
    "from sklearn.feature_extraction.text import TfidfVectorizer\n",
    "from scipy.sparse.csr import csr_matrix \n",
    "\n",
    "from sklearn.preprocessing import StandardScaler\n",
    "from sklearn.linear_model import SGDClassifier\n",
    "from sklearn.calibration import CalibratedClassifierCV\n",
    "from sklearn.metrics.classification import log_loss\n",
    "\n",
    "from sklearn.metrics import confusion_matrix\n",
    "from sklearn.metrics import accuracy_score\n",
    "from sklearn.metrics import recall_score\n",
    "from sklearn.metrics import precision_score\n",
    "from sklearn.metrics import f1_score\n",
    "\n",
    "from sklearn.ensemble import RandomForestClassifier\n",
    "import xgboost as xgb"
   ]
  },
  {
   "cell_type": "code",
   "execution_count": 5,
   "metadata": {},
   "outputs": [
    {
     "name": "stdout",
     "output_type": "stream",
     "text": [
      "Shape of the dataset (404351, 6)\n",
      "Number of datapoints 404351\n",
      "Number of features 6\n"
     ]
    },
    {
     "data": {
      "text/html": [
       "<div>\n",
       "<style scoped>\n",
       "    .dataframe tbody tr th:only-of-type {\n",
       "        vertical-align: middle;\n",
       "    }\n",
       "\n",
       "    .dataframe tbody tr th {\n",
       "        vertical-align: top;\n",
       "    }\n",
       "\n",
       "    .dataframe thead th {\n",
       "        text-align: right;\n",
       "    }\n",
       "</style>\n",
       "<table border=\"1\" class=\"dataframe\">\n",
       "  <thead>\n",
       "    <tr style=\"text-align: right;\">\n",
       "      <th></th>\n",
       "      <th>id</th>\n",
       "      <th>qid1</th>\n",
       "      <th>qid2</th>\n",
       "      <th>question1</th>\n",
       "      <th>question2</th>\n",
       "      <th>is_duplicate</th>\n",
       "    </tr>\n",
       "  </thead>\n",
       "  <tbody>\n",
       "    <tr>\n",
       "      <th>0</th>\n",
       "      <td>0</td>\n",
       "      <td>1</td>\n",
       "      <td>2</td>\n",
       "      <td>What is the step by step guide to invest in sh...</td>\n",
       "      <td>What is the step by step guide to invest in sh...</td>\n",
       "      <td>0</td>\n",
       "    </tr>\n",
       "    <tr>\n",
       "      <th>1</th>\n",
       "      <td>1</td>\n",
       "      <td>3</td>\n",
       "      <td>4</td>\n",
       "      <td>What is the story of Kohinoor (Koh-i-Noor) Dia...</td>\n",
       "      <td>What would happen if the Indian government sto...</td>\n",
       "      <td>0</td>\n",
       "    </tr>\n",
       "    <tr>\n",
       "      <th>2</th>\n",
       "      <td>2</td>\n",
       "      <td>5</td>\n",
       "      <td>6</td>\n",
       "      <td>How can I increase the speed of my internet co...</td>\n",
       "      <td>How can Internet speed be increased by hacking...</td>\n",
       "      <td>0</td>\n",
       "    </tr>\n",
       "    <tr>\n",
       "      <th>3</th>\n",
       "      <td>3</td>\n",
       "      <td>7</td>\n",
       "      <td>8</td>\n",
       "      <td>Why am I mentally very lonely? How can I solve...</td>\n",
       "      <td>Find the remainder when [math]23^{24}[/math] i...</td>\n",
       "      <td>0</td>\n",
       "    </tr>\n",
       "    <tr>\n",
       "      <th>4</th>\n",
       "      <td>4</td>\n",
       "      <td>9</td>\n",
       "      <td>10</td>\n",
       "      <td>Which one dissolve in water quikly sugar, salt...</td>\n",
       "      <td>Which fish would survive in salt water?</td>\n",
       "      <td>0</td>\n",
       "    </tr>\n",
       "  </tbody>\n",
       "</table>\n",
       "</div>"
      ],
      "text/plain": [
       "   id  qid1  qid2                                          question1  \\\n",
       "0   0     1     2  What is the step by step guide to invest in sh...   \n",
       "1   1     3     4  What is the story of Kohinoor (Koh-i-Noor) Dia...   \n",
       "2   2     5     6  How can I increase the speed of my internet co...   \n",
       "3   3     7     8  Why am I mentally very lonely? How can I solve...   \n",
       "4   4     9    10  Which one dissolve in water quikly sugar, salt...   \n",
       "\n",
       "                                           question2  is_duplicate  \n",
       "0  What is the step by step guide to invest in sh...             0  \n",
       "1  What would happen if the Indian government sto...             0  \n",
       "2  How can Internet speed be increased by hacking...             0  \n",
       "3  Find the remainder when [math]23^{24}[/math] i...             0  \n",
       "4            Which fish would survive in salt water?             0  "
      ]
     },
     "execution_count": 5,
     "metadata": {},
     "output_type": "execute_result"
    }
   ],
   "source": [
    "#Loading the dataset\n",
    "data = pd.read_csv(\"Quora_questions.csv/questions.csv\")\n",
    "print(\"Shape of the dataset \"+str(data.shape))\n",
    "print(\"Number of datapoints \"+str(data.shape[0]))\n",
    "print(\"Number of features \"+str(data.shape[1]))\n",
    "data.head()"
   ]
  },
  {
   "cell_type": "code",
   "execution_count": 6,
   "metadata": {},
   "outputs": [
    {
     "name": "stdout",
     "output_type": "stream",
     "text": [
      "<class 'pandas.core.frame.DataFrame'>\n",
      "RangeIndex: 404351 entries, 0 to 404350\n",
      "Data columns (total 6 columns):\n",
      "id              404351 non-null int64\n",
      "qid1            404351 non-null int64\n",
      "qid2            404351 non-null int64\n",
      "question1       404350 non-null object\n",
      "question2       404349 non-null object\n",
      "is_duplicate    404351 non-null int64\n",
      "dtypes: int64(4), object(2)\n",
      "memory usage: 18.5+ MB\n"
     ]
    }
   ],
   "source": [
    "# Information about the data\n",
    "data.info()"
   ]
  },
  {
   "cell_type": "code",
   "execution_count": 7,
   "metadata": {},
   "outputs": [
    {
     "data": {
      "text/plain": [
       "0    31740\n",
       "1    18260\n",
       "Name: is_duplicate, dtype: int64"
      ]
     },
     "execution_count": 7,
     "metadata": {},
     "output_type": "execute_result"
    }
   ],
   "source": [
    "#################### Distribution of the datapoints among response labels #####################\n",
    "# Number of duplicates(similar) and non_duplicates(non_similar) questions\n",
    "# Taking the top 50k points\n",
    "data = data.sample(n=50000)\n",
    "data['is_duplicate'].value_counts()"
   ]
  },
  {
   "cell_type": "code",
   "execution_count": 8,
   "metadata": {},
   "outputs": [
    {
     "data": {
      "text/plain": [
       "Text(0.5, 1.0, 'Class distribution \\n (0:non_similar || 1:similar questions)')"
      ]
     },
     "execution_count": 8,
     "metadata": {},
     "output_type": "execute_result"
    },
    {
     "data": {
      "image/png": "[encoded data removed]",
      "text/plain": [
       "<Figure size 432x288 with 1 Axes>"
      ]
     },
     "metadata": {
      "needs_background": "light"
     },
     "output_type": "display_data"
    }
   ],
   "source": [
    "#Class distributions\n",
    "sns.countplot(x='is_duplicate', data=data)\n",
    "plt.title(\"Class distribution \\n (0:non_similar || 1:similar questions)\")"
   ]
  },
  {
   "cell_type": "code",
   "execution_count": 9,
   "metadata": {},
   "outputs": [
    {
     "name": "stdout",
     "output_type": "stream",
     "text": [
      "Non_duplicates questions are  63.48 % of the dataset\n",
      "Duplicates questions are  36.52 % of the dataset\n"
     ]
    }
   ],
   "source": [
    "print(\"Non_duplicates questions are \",round((data['is_duplicate'].value_counts()[0]/len(data))*100, 3), \"% of the dataset\")\n",
    "print(\"Duplicates questions are \",round((data['is_duplicate'].value_counts()[1]/len(data))*100, 3), \"% of the dataset\")"
   ]
  },
  {
   "cell_type": "code",
   "execution_count": 10,
   "metadata": {},
   "outputs": [
    {
     "name": "stdout",
     "output_type": "stream",
     "text": [
      "Total number of  Unique Questions are: 99559\n",
      "\n",
      "Number of unique questions that appear more than one time: 383 (0.38469651161622753%)\n",
      "\n",
      "Max number of times a single question is repeated: 11\n",
      "\n"
     ]
    }
   ],
   "source": [
    "########### Number of unique questions #################\n",
    "qids = pd.Series(data['qid1'].tolist() + data['qid2'].tolist())\n",
    "unique_qs = len(np.unique(qids))\n",
    "qs_morethan_onetime = np.sum(qids.value_counts() > 1)\n",
    "print ('Total number of  Unique Questions are: {}\\n'.format(unique_qs))\n",
    "#print len(np.unique(qids))\n",
    "\n",
    "print ('Number of unique questions that appear more than one time: {} ({}%)\\n'.format(qs_morethan_onetime,qs_morethan_onetime/unique_qs*100))\n",
    "\n",
    "print ('Max number of times a single question is repeated: {}\\n'.format(max(qids.value_counts()))) \n",
    "\n",
    "#q_vals=qids.value_counts()\n",
    "\n",
    "#q_vals=q_vals.values"
   ]
  },
  {
   "cell_type": "code",
   "execution_count": 11,
   "metadata": {},
   "outputs": [
    {
     "data": {
      "image/png": "[encoded data removed]",
      "text/plain": [
       "<Figure size 720x432 with 1 Axes>"
      ]
     },
     "metadata": {
      "needs_background": "light"
     },
     "output_type": "display_data"
    }
   ],
   "source": [
    "x = ['unique_questions', 'Repeated_questions']\n",
    "y = [unique_qs, qs_morethan_onetime]\n",
    "plt.figure(figsize=(10, 6))\n",
    "plt.title (\"Plot representing unique and repeated questions  \")\n",
    "sns.barplot(x,y)\n",
    "plt.show()"
   ]
  },
  {
   "cell_type": "code",
   "execution_count": 14,
   "metadata": {},
   "outputs": [
    {
     "name": "stdout",
     "output_type": "stream",
     "text": [
      "Maximum number of times a single question is repeated: 11\n",
      "\n"
     ]
    },
    {
     "data": {
      "image/png": "[encoded data removed]",
      "text/plain": [
       "<Figure size 1440x720 with 1 Axes>"
      ]
     },
     "metadata": {
      "needs_background": "light"
     },
     "output_type": "display_data"
    }
   ],
   "source": [
    "######################### Number of occurences for each question ##################\n",
    "plt.figure(figsize=(20, 10))\n",
    "\n",
    "plt.hist(qids.value_counts(), bins=160)\n",
    "\n",
    "plt.yscale('log', nonposy='clip')\n",
    "\n",
    "plt.title('Log-Histogram of question appearance counts')\n",
    "\n",
    "plt.xlabel('Number of occurences of question')\n",
    "\n",
    "plt.ylabel('Number of questions')\n",
    "\n",
    "print ('Maximum number of times a single question is repeated: {}\\n'.format(max(qids.value_counts()))) "
   ]
  },
  {
   "cell_type": "code",
   "execution_count": 15,
   "metadata": {},
   "outputs": [
    {
     "name": "stdout",
     "output_type": "stream",
     "text": [
      "            id    qid1    qid2                         question1 question2  \\\n",
      "105796  105796  209841  209842    How can I develop android app?       NaN   \n",
      "201871  201871  398348  398349  How can I create an Android app?       NaN   \n",
      "\n",
      "        is_duplicate  \n",
      "105796             0  \n",
      "201871             0  \n"
     ]
    }
   ],
   "source": [
    "################## Checking the null values ##############\n",
    "#Checking whether there are any rows with null values\n",
    "nan_rows = data[data.isnull().any(1)]\n",
    "# If values are present in theen replace with questions the space\n",
    "print (nan_rows)"
   ]
  },
  {
   "cell_type": "code",
   "execution_count": 16,
   "metadata": {},
   "outputs": [
    {
     "name": "stdout",
     "output_type": "stream",
     "text": [
      "Empty DataFrame\n",
      "Columns: [id, qid1, qid2, question1, question2, is_duplicate]\n",
      "Index: []\n"
     ]
    }
   ],
   "source": [
    "# If values are present in theen replace with questions the space\n",
    "# Filling the null values with ' '\n",
    "data = data.fillna('')\n",
    "nan_rows = data[data.isnull().any(1)]\n",
    "print(nan_rows)"
   ]
  },
  {
   "cell_type": "markdown",
   "metadata": {},
   "source": [
    "## Basic Feature Extraction:\n",
    "\n",
    "- Length of the question.\n",
    "- Difference between length of two questions.\n",
    "- Character length of question without spaces.\n",
    "- Number of words in question.\n",
    "- Number of common words in both the questions."
   ]
  },
  {
   "cell_type": "code",
   "execution_count": 17,
   "metadata": {},
   "outputs": [],
   "source": [
    "# Length of question1\n",
    "data['len_q1'] = data.question1.apply(lambda x: len(str(x)))\n",
    "# Length of question2\n",
    "data['len_q2'] = data.question2.apply(lambda x: len(str(x)))\n",
    "# Difference in the two lengths\n",
    "data['diff_len'] = data.len_q1 - data.len_q2\n",
    "# Character length of question1 without spaces\n",
    "data['len_char_q1'] = data.question1.apply(lambda x: len(''.join(set(str(x).replace(' ', '')))))\n",
    "# Character length of question2 without spaces\n",
    "data['len_char_q2'] = data.question2.apply(lambda x: len(''.join(set(str(x).replace(' ', '')))))\n",
    "# Number of words in question1\n",
    "data['len_word_q1'] = data.question1.apply(lambda x: len(str(x).split()))\n",
    "# Number of words in question2\n",
    "data['len_word_q2'] = data.question2.apply(lambda x: len(str(x).split()))\n",
    "# Number of common words in question1 and question2\n",
    "data['common_words'] = data.apply(lambda x: len(set(str(x['question1']).lower().split()).intersection(set(str(x['question2']).lower().split()))), axis=1)"
   ]
  },
  {
   "cell_type": "code",
   "execution_count": 18,
   "metadata": {},
   "outputs": [
    {
     "data": {
      "text/html": [
       "<div>\n",
       "<style scoped>\n",
       "    .dataframe tbody tr th:only-of-type {\n",
       "        vertical-align: middle;\n",
       "    }\n",
       "\n",
       "    .dataframe tbody tr th {\n",
       "        vertical-align: top;\n",
       "    }\n",
       "\n",
       "    .dataframe thead th {\n",
       "        text-align: right;\n",
       "    }\n",
       "</style>\n",
       "<table border=\"1\" class=\"dataframe\">\n",
       "  <thead>\n",
       "    <tr style=\"text-align: right;\">\n",
       "      <th></th>\n",
       "      <th>id</th>\n",
       "      <th>qid1</th>\n",
       "      <th>qid2</th>\n",
       "      <th>question1</th>\n",
       "      <th>question2</th>\n",
       "      <th>is_duplicate</th>\n",
       "      <th>len_q1</th>\n",
       "      <th>len_q2</th>\n",
       "      <th>diff_len</th>\n",
       "      <th>len_char_q1</th>\n",
       "      <th>len_char_q2</th>\n",
       "      <th>len_word_q1</th>\n",
       "      <th>len_word_q2</th>\n",
       "      <th>common_words</th>\n",
       "    </tr>\n",
       "  </thead>\n",
       "  <tbody>\n",
       "    <tr>\n",
       "      <th>383194</th>\n",
       "      <td>383194</td>\n",
       "      <td>749346</td>\n",
       "      <td>749347</td>\n",
       "      <td>Why are Formula 1 cars slower than a Hennessey...</td>\n",
       "      <td>How many miles can a Bugatti Veyron do on a fu...</td>\n",
       "      <td>0</td>\n",
       "      <td>76</td>\n",
       "      <td>54</td>\n",
       "      <td>22</td>\n",
       "      <td>25</td>\n",
       "      <td>22</td>\n",
       "      <td>15</td>\n",
       "      <td>12</td>\n",
       "      <td>2</td>\n",
       "    </tr>\n",
       "    <tr>\n",
       "      <th>18194</th>\n",
       "      <td>18194</td>\n",
       "      <td>36303</td>\n",
       "      <td>36304</td>\n",
       "      <td>How can I improve my spoken English?</td>\n",
       "      <td>How can improve my English speaking?</td>\n",
       "      <td>1</td>\n",
       "      <td>36</td>\n",
       "      <td>36</td>\n",
       "      <td>0</td>\n",
       "      <td>21</td>\n",
       "      <td>20</td>\n",
       "      <td>7</td>\n",
       "      <td>6</td>\n",
       "      <td>4</td>\n",
       "    </tr>\n",
       "    <tr>\n",
       "      <th>303492</th>\n",
       "      <td>303492</td>\n",
       "      <td>595957</td>\n",
       "      <td>595958</td>\n",
       "      <td>Do we need to believe in God?</td>\n",
       "      <td>Do I need to believe in God?</td>\n",
       "      <td>1</td>\n",
       "      <td>29</td>\n",
       "      <td>28</td>\n",
       "      <td>1</td>\n",
       "      <td>13</td>\n",
       "      <td>13</td>\n",
       "      <td>7</td>\n",
       "      <td>7</td>\n",
       "      <td>6</td>\n",
       "    </tr>\n",
       "    <tr>\n",
       "      <th>24591</th>\n",
       "      <td>24591</td>\n",
       "      <td>49055</td>\n",
       "      <td>49056</td>\n",
       "      <td>Is it possible to derive the masses of electro...</td>\n",
       "      <td>What is electron proton neutron?</td>\n",
       "      <td>0</td>\n",
       "      <td>132</td>\n",
       "      <td>32</td>\n",
       "      <td>100</td>\n",
       "      <td>23</td>\n",
       "      <td>15</td>\n",
       "      <td>21</td>\n",
       "      <td>5</td>\n",
       "      <td>2</td>\n",
       "    </tr>\n",
       "    <tr>\n",
       "      <th>300573</th>\n",
       "      <td>300573</td>\n",
       "      <td>590319</td>\n",
       "      <td>590320</td>\n",
       "      <td>Which are the best SEO companies in Delhi?</td>\n",
       "      <td>What is the best SEO company in Delhi, India?</td>\n",
       "      <td>1</td>\n",
       "      <td>42</td>\n",
       "      <td>45</td>\n",
       "      <td>-3</td>\n",
       "      <td>20</td>\n",
       "      <td>23</td>\n",
       "      <td>8</td>\n",
       "      <td>9</td>\n",
       "      <td>4</td>\n",
       "    </tr>\n",
       "  </tbody>\n",
       "</table>\n",
       "</div>"
      ],
      "text/plain": [
       "            id    qid1    qid2  \\\n",
       "383194  383194  749346  749347   \n",
       "18194    18194   36303   36304   \n",
       "303492  303492  595957  595958   \n",
       "24591    24591   49055   49056   \n",
       "300573  300573  590319  590320   \n",
       "\n",
       "                                                question1  \\\n",
       "383194  Why are Formula 1 cars slower than a Hennessey...   \n",
       "18194                How can I improve my spoken English?   \n",
       "303492                      Do we need to believe in God?   \n",
       "24591   Is it possible to derive the masses of electro...   \n",
       "300573         Which are the best SEO companies in Delhi?   \n",
       "\n",
       "                                                question2  is_duplicate  \\\n",
       "383194  How many miles can a Bugatti Veyron do on a fu...             0   \n",
       "18194                How can improve my English speaking?             1   \n",
       "303492                       Do I need to believe in God?             1   \n",
       "24591                    What is electron proton neutron?             0   \n",
       "300573      What is the best SEO company in Delhi, India?             1   \n",
       "\n",
       "        len_q1  len_q2  diff_len  len_char_q1  len_char_q2  len_word_q1  \\\n",
       "383194      76      54        22           25           22           15   \n",
       "18194       36      36         0           21           20            7   \n",
       "303492      29      28         1           13           13            7   \n",
       "24591      132      32       100           23           15           21   \n",
       "300573      42      45        -3           20           23            8   \n",
       "\n",
       "        len_word_q2  common_words  \n",
       "383194           12             2  \n",
       "18194             6             4  \n",
       "303492            7             6  \n",
       "24591             5             2  \n",
       "300573            9             4  "
      ]
     },
     "execution_count": 18,
     "metadata": {},
     "output_type": "execute_result"
    }
   ],
   "source": [
    "data.head()"
   ]
  },
  {
   "cell_type": "code",
   "execution_count": 19,
   "metadata": {},
   "outputs": [
    {
     "name": "stdout",
     "output_type": "stream",
     "text": [
      "Minimum length of the questions in question1 :  1\n",
      "Minimum length of the questions in question2 :  0\n",
      "Number of Questions with minimum length [question1] : 7\n",
      "Number of Questions with minimum length [question2] : 2\n"
     ]
    }
   ],
   "source": [
    "print (\"Minimum length of the questions in question1 : \" , min(data['len_word_q1']))\n",
    "\n",
    "print (\"Minimum length of the questions in question2 : \" , min(data['len_word_q2']))\n",
    "\n",
    "print (\"Number of Questions with minimum length [question1] :\", data[data['len_word_q1']==  min(data['len_word_q1'])].shape[0])\n",
    "print (\"Number of Questions with minimum length [question2] :\", data[data['len_word_q2']==  min(data['len_word_q2'])].shape[0])"
   ]
  },
  {
   "cell_type": "markdown",
   "metadata": {},
   "source": [
    "### Text Preprocessing:\n",
    "   #### 1.Removal of HTML tags\n",
    "   #### 2.Removal of special characters\n",
    "   #### 3.Converting all text into small characters\n",
    "   #### 4.Removing stop words\n",
    "   #### 5.Stemming with porter stemming"
   ]
  },
  {
   "cell_type": "code",
   "execution_count": 20,
   "metadata": {},
   "outputs": [],
   "source": [
    "######### Text preprocessing for both question_1 and question_2 ###########\n",
    "\n",
    "#Storing all stopwords \n",
    "stop_words = set(stopwords.words('english'))\n",
    "\n",
    "#stemming using porter stemming\n",
    "sno = nltk.stem.SnowballStemmer('english')\n",
    "\n",
    "#Function for removal of html tags, if present in the text\n",
    "def cleanhtml(text):\n",
    "    removed_html_text = re.sub('<.*?>', '', text)\n",
    "    return removed_html_text\n",
    "\n",
    "#Function for removal of punctuations from the text if present\n",
    "def cleanpunc(text):\n",
    "    text1 = re.sub(r'[?|!|\\'|\"|#]',r'',text)\n",
    "    removed_punc = re.sub(r'[.|,|)|(|\\|/]',r' ',text1)\n",
    "    return removed_punc"
   ]
  },
  {
   "cell_type": "code",
   "execution_count": 24,
   "metadata": {},
   "outputs": [],
   "source": [
    "\n",
    "#Function for Text pre-processing\n",
    "def preprocess_data(data):\n",
    "    #creating an empty list to store all preprocessed data\n",
    "    preprocessed_data = []\n",
    "    row = 0\n",
    "    for sent in data:\n",
    "            preprocessed_text = []\n",
    "            #Removing html tags for each sentence \n",
    "            sent = cleanhtml(sent)\n",
    "            for word in sent.split():\n",
    "                #Removal of punctuations\n",
    "                for c_word in cleanpunc(word).split():\n",
    "                    #word should be non-numeric and length of each word should be >2 \n",
    "                    if((c_word.isalpha()) & (len(c_word)>2)):\n",
    "                        #Converting words to be in lower case and that should not be an stop words\n",
    "                        if(c_word.lower() not in stop_words):\n",
    "                            #Doing the stemming\n",
    "                            final_word = (sno.stem(c_word.lower())).encode('utf8')\n",
    "                            preprocessed_text.append(final_word)\n",
    "                        else:\n",
    "                            continue\n",
    "                    else:\n",
    "                        continue\n",
    "\n",
    "            str = b' '.join(preprocessed_text).decode('utf8')\n",
    "            preprocessed_data.append(str)\n",
    "            #print(row, end='\\r')\n",
    "            row += 1\n",
    "    return preprocessed_data"
   ]
  },
  {
   "cell_type": "code",
   "execution_count": 25,
   "metadata": {},
   "outputs": [],
   "source": [
    "# Text_preprocessing for an question_1  \n",
    "data['pre_question1'] = preprocess_data(data['question1'])"
   ]
  },
  {
   "cell_type": "code",
   "execution_count": 26,
   "metadata": {},
   "outputs": [],
   "source": [
    "# Text_preprocessing for an question_1  \n",
    "data['pre_question2'] = preprocess_data(data['question2'])"
   ]
  },
  {
   "cell_type": "markdown",
   "metadata": {},
   "source": [
    "### Feature Extraction Using Fuzzy features:\n",
    "\n",
    "- FuzzyWuzzy: Fuzzy String Matching in Python:https://chairnerd.seatgeek.com/fuzzywuzzy-fuzzy-string-matching-in-python/"
   ]
  },
  {
   "cell_type": "code",
   "execution_count": 27,
   "metadata": {},
   "outputs": [],
   "source": [
    "# Quentions Similarity\n",
    "data['fuzz_qratio'] = data.apply(lambda x: fuzz.QRatio(str(x['pre_question1']), str(x['pre_question2'])), axis=1)\n",
    "# Partial Questions similarity\n",
    "data['fuzz_partial_ratio'] = data.apply(lambda x: fuzz.partial_ratio(str(x['pre_question1']), str(x['pre_question2'])), axis=1)\n",
    "# Token Set Sort\n",
    "data['fuzz_token_sort_ratio'] = data.apply(lambda x: fuzz.token_sort_ratio(str(x['pre_question1']), str(x['pre_question2'])), axis=1)\n",
    "# Word similarity\n",
    "data['fuzz_WRatio'] = data.apply(lambda x: fuzz.WRatio(str(x['pre_question1']), str(x['pre_question2'])), axis=1)\n",
    "data['fuzz_partial_token_set_ratio'] = data.apply(lambda x: fuzz.partial_token_set_ratio(str(x['pre_question1']), str(x['pre_question2'])), axis=1)\n",
    "data['fuzz_partial_token_sort_ratio'] = data.apply(lambda x: fuzz.partial_token_sort_ratio(str(x['pre_question1']), str(x['pre_question2'])), axis=1)\n",
    "data['fuzz_token_set_ratio'] = data.apply(lambda x: fuzz.token_set_ratio(str(x['pre_question1']), str(x['pre_question2'])), axis=1)"
   ]
  },
  {
   "cell_type": "code",
   "execution_count": 28,
   "metadata": {},
   "outputs": [
    {
     "name": "stdout",
     "output_type": "stream",
     "text": [
      "Shape of the data (50000, 23)\n"
     ]
    },
    {
     "data": {
      "text/html": [
       "<div>\n",
       "<style scoped>\n",
       "    .dataframe tbody tr th:only-of-type {\n",
       "        vertical-align: middle;\n",
       "    }\n",
       "\n",
       "    .dataframe tbody tr th {\n",
       "        vertical-align: top;\n",
       "    }\n",
       "\n",
       "    .dataframe thead th {\n",
       "        text-align: right;\n",
       "    }\n",
       "</style>\n",
       "<table border=\"1\" class=\"dataframe\">\n",
       "  <thead>\n",
       "    <tr style=\"text-align: right;\">\n",
       "      <th></th>\n",
       "      <th>id</th>\n",
       "      <th>qid1</th>\n",
       "      <th>qid2</th>\n",
       "      <th>question1</th>\n",
       "      <th>question2</th>\n",
       "      <th>is_duplicate</th>\n",
       "      <th>len_q1</th>\n",
       "      <th>len_q2</th>\n",
       "      <th>diff_len</th>\n",
       "      <th>len_char_q1</th>\n",
       "      <th>...</th>\n",
       "      <th>common_words</th>\n",
       "      <th>pre_question1</th>\n",
       "      <th>pre_question2</th>\n",
       "      <th>fuzz_qratio</th>\n",
       "      <th>fuzz_partial_ratio</th>\n",
       "      <th>fuzz_token_sort_ratio</th>\n",
       "      <th>fuzz_WRatio</th>\n",
       "      <th>fuzz_partial_token_set_ratio</th>\n",
       "      <th>fuzz_partial_token_sort_ratio</th>\n",
       "      <th>fuzz_token_set_ratio</th>\n",
       "    </tr>\n",
       "  </thead>\n",
       "  <tbody>\n",
       "    <tr>\n",
       "      <th>383194</th>\n",
       "      <td>383194</td>\n",
       "      <td>749346</td>\n",
       "      <td>749347</td>\n",
       "      <td>Why are Formula 1 cars slower than a Hennessey...</td>\n",
       "      <td>How many miles can a Bugatti Veyron do on a fu...</td>\n",
       "      <td>0</td>\n",
       "      <td>76</td>\n",
       "      <td>54</td>\n",
       "      <td>22</td>\n",
       "      <td>25</td>\n",
       "      <td>...</td>\n",
       "      <td>2</td>\n",
       "      <td>formula car slower hennessey venom bugatti veyron</td>\n",
       "      <td>mani mile bugatti veyron full tank</td>\n",
       "      <td>43</td>\n",
       "      <td>58</td>\n",
       "      <td>53</td>\n",
       "      <td>55</td>\n",
       "      <td>100</td>\n",
       "      <td>50</td>\n",
       "      <td>58</td>\n",
       "    </tr>\n",
       "    <tr>\n",
       "      <th>18194</th>\n",
       "      <td>18194</td>\n",
       "      <td>36303</td>\n",
       "      <td>36304</td>\n",
       "      <td>How can I improve my spoken English?</td>\n",
       "      <td>How can improve my English speaking?</td>\n",
       "      <td>1</td>\n",
       "      <td>36</td>\n",
       "      <td>36</td>\n",
       "      <td>0</td>\n",
       "      <td>21</td>\n",
       "      <td>...</td>\n",
       "      <td>4</td>\n",
       "      <td>improv spoken english</td>\n",
       "      <td>improv english speak</td>\n",
       "      <td>68</td>\n",
       "      <td>65</td>\n",
       "      <td>88</td>\n",
       "      <td>84</td>\n",
       "      <td>100</td>\n",
       "      <td>90</td>\n",
       "      <td>88</td>\n",
       "    </tr>\n",
       "    <tr>\n",
       "      <th>303492</th>\n",
       "      <td>303492</td>\n",
       "      <td>595957</td>\n",
       "      <td>595958</td>\n",
       "      <td>Do we need to believe in God?</td>\n",
       "      <td>Do I need to believe in God?</td>\n",
       "      <td>1</td>\n",
       "      <td>29</td>\n",
       "      <td>28</td>\n",
       "      <td>1</td>\n",
       "      <td>13</td>\n",
       "      <td>...</td>\n",
       "      <td>6</td>\n",
       "      <td>need believ god</td>\n",
       "      <td>need believ god</td>\n",
       "      <td>100</td>\n",
       "      <td>100</td>\n",
       "      <td>100</td>\n",
       "      <td>100</td>\n",
       "      <td>100</td>\n",
       "      <td>100</td>\n",
       "      <td>100</td>\n",
       "    </tr>\n",
       "    <tr>\n",
       "      <th>24591</th>\n",
       "      <td>24591</td>\n",
       "      <td>49055</td>\n",
       "      <td>49056</td>\n",
       "      <td>Is it possible to derive the masses of electro...</td>\n",
       "      <td>What is electron proton neutron?</td>\n",
       "      <td>0</td>\n",
       "      <td>132</td>\n",
       "      <td>32</td>\n",
       "      <td>100</td>\n",
       "      <td>23</td>\n",
       "      <td>...</td>\n",
       "      <td>2</td>\n",
       "      <td>possibl deriv mass electron proton neutron fir...</td>\n",
       "      <td>electron proton neutron</td>\n",
       "      <td>47</td>\n",
       "      <td>100</td>\n",
       "      <td>47</td>\n",
       "      <td>90</td>\n",
       "      <td>100</td>\n",
       "      <td>52</td>\n",
       "      <td>100</td>\n",
       "    </tr>\n",
       "    <tr>\n",
       "      <th>300573</th>\n",
       "      <td>300573</td>\n",
       "      <td>590319</td>\n",
       "      <td>590320</td>\n",
       "      <td>Which are the best SEO companies in Delhi?</td>\n",
       "      <td>What is the best SEO company in Delhi, India?</td>\n",
       "      <td>1</td>\n",
       "      <td>42</td>\n",
       "      <td>45</td>\n",
       "      <td>-3</td>\n",
       "      <td>20</td>\n",
       "      <td>...</td>\n",
       "      <td>4</td>\n",
       "      <td>best seo compani delhi</td>\n",
       "      <td>best seo compani delhi india</td>\n",
       "      <td>88</td>\n",
       "      <td>100</td>\n",
       "      <td>88</td>\n",
       "      <td>95</td>\n",
       "      <td>100</td>\n",
       "      <td>86</td>\n",
       "      <td>100</td>\n",
       "    </tr>\n",
       "  </tbody>\n",
       "</table>\n",
       "<p>5 rows × 23 columns</p>\n",
       "</div>"
      ],
      "text/plain": [
       "            id    qid1    qid2  \\\n",
       "383194  383194  749346  749347   \n",
       "18194    18194   36303   36304   \n",
       "303492  303492  595957  595958   \n",
       "24591    24591   49055   49056   \n",
       "300573  300573  590319  590320   \n",
       "\n",
       "                                                question1  \\\n",
       "383194  Why are Formula 1 cars slower than a Hennessey...   \n",
       "18194                How can I improve my spoken English?   \n",
       "303492                      Do we need to believe in God?   \n",
       "24591   Is it possible to derive the masses of electro...   \n",
       "300573         Which are the best SEO companies in Delhi?   \n",
       "\n",
       "                                                question2  is_duplicate  \\\n",
       "383194  How many miles can a Bugatti Veyron do on a fu...             0   \n",
       "18194                How can improve my English speaking?             1   \n",
       "303492                       Do I need to believe in God?             1   \n",
       "24591                    What is electron proton neutron?             0   \n",
       "300573      What is the best SEO company in Delhi, India?             1   \n",
       "\n",
       "        len_q1  len_q2  diff_len  len_char_q1          ...           \\\n",
       "383194      76      54        22           25          ...            \n",
       "18194       36      36         0           21          ...            \n",
       "303492      29      28         1           13          ...            \n",
       "24591      132      32       100           23          ...            \n",
       "300573      42      45        -3           20          ...            \n",
       "\n",
       "        common_words                                      pre_question1  \\\n",
       "383194             2  formula car slower hennessey venom bugatti veyron   \n",
       "18194              4                              improv spoken english   \n",
       "303492             6                                    need believ god   \n",
       "24591              2  possibl deriv mass electron proton neutron fir...   \n",
       "300573             4                             best seo compani delhi   \n",
       "\n",
       "                             pre_question2  fuzz_qratio fuzz_partial_ratio  \\\n",
       "383194  mani mile bugatti veyron full tank           43                 58   \n",
       "18194                 improv english speak           68                 65   \n",
       "303492                     need believ god          100                100   \n",
       "24591              electron proton neutron           47                100   \n",
       "300573        best seo compani delhi india           88                100   \n",
       "\n",
       "       fuzz_token_sort_ratio  fuzz_WRatio  fuzz_partial_token_set_ratio  \\\n",
       "383194                    53           55                           100   \n",
       "18194                     88           84                           100   \n",
       "303492                   100          100                           100   \n",
       "24591                     47           90                           100   \n",
       "300573                    88           95                           100   \n",
       "\n",
       "        fuzz_partial_token_sort_ratio  fuzz_token_set_ratio  \n",
       "383194                             50                    58  \n",
       "18194                              90                    88  \n",
       "303492                            100                   100  \n",
       "24591                              52                   100  \n",
       "300573                             86                   100  \n",
       "\n",
       "[5 rows x 23 columns]"
      ]
     },
     "execution_count": 28,
     "metadata": {},
     "output_type": "execute_result"
    }
   ],
   "source": [
    "#Shape of the after adding all this features\n",
    "print(\"Shape of the data \"+str(data.shape))\n",
    "data.head()"
   ]
  },
  {
   "cell_type": "code",
   "execution_count": 29,
   "metadata": {},
   "outputs": [
    {
     "data": {
      "text/plain": [
       "Index(['id', 'qid1', 'qid2', 'question1', 'question2', 'is_duplicate',\n",
       "       'len_q1', 'len_q2', 'diff_len', 'len_char_q1', 'len_char_q2',\n",
       "       'len_word_q1', 'len_word_q2', 'common_words', 'pre_question1',\n",
       "       'pre_question2', 'fuzz_qratio', 'fuzz_partial_ratio',\n",
       "       'fuzz_token_sort_ratio', 'fuzz_WRatio', 'fuzz_partial_token_set_ratio',\n",
       "       'fuzz_partial_token_sort_ratio', 'fuzz_token_set_ratio'],\n",
       "      dtype='object')"
      ]
     },
     "execution_count": 29,
     "metadata": {},
     "output_type": "execute_result"
    }
   ],
   "source": [
    "data.columns"
   ]
  },
  {
   "cell_type": "code",
   "execution_count": 30,
   "metadata": {},
   "outputs": [],
   "source": [
    "X = data.drop(['question1', 'question2', 'is_duplicate'], axis = 1)\n",
    "y = data.is_duplicate"
   ]
  },
  {
   "cell_type": "code",
   "execution_count": 31,
   "metadata": {},
   "outputs": [
    {
     "data": {
      "text/plain": [
       "((32000, 20), (8000, 20), (10000, 20))"
      ]
     },
     "execution_count": 31,
     "metadata": {},
     "output_type": "execute_result"
    }
   ],
   "source": [
    "## Splitting the data into train and test\n",
    "X_train, X_test, y_train, y_test = train_test_split(X, y, test_size=0.2, random_state=42)\n",
    "# Splitting the data has train and cross_validation\n",
    "X_tr, X_cv, y_tr, y_cv = train_test_split(X_train, y_train, test_size=0.2, random_state=42)\n",
    "X_tr.shape, X_cv.shape, X_test.shape"
   ]
  },
  {
   "cell_type": "markdown",
   "metadata": {},
   "source": [
    "## TF-IDF:"
   ]
  },
  {
   "cell_type": "code",
   "execution_count": 32,
   "metadata": {},
   "outputs": [],
   "source": [
    "# tfidf for question1 \n",
    "tf_q1 = TfidfVectorizer(lowercase=False).fit(X_tr.pre_question1)\n",
    "tfidf_tr_mat_q1 =  tf_q1.transform(X_tr.pre_question1)\n",
    "tfidf_cv_mat_q1 =  tf_q1.transform(X_cv.pre_question1)\n",
    "tfidf_te_mat_q1 =  tf_q1.transform(X_test.pre_question1)"
   ]
  },
  {
   "cell_type": "code",
   "execution_count": 33,
   "metadata": {},
   "outputs": [],
   "source": [
    "# tfidf for question2 \n",
    "tf_q2 = TfidfVectorizer(lowercase=False).fit(X_tr.pre_question2)\n",
    "tfidf_tr_mat_q2 =  tf_q2.transform(X_tr.pre_question2)\n",
    "tfidf_cv_mat_q2 =  tf_q2.transform(X_tr.pre_question2)\n",
    "tfidf_te_mat_q2 =  tf_q2.transform(X_test.pre_question2)"
   ]
  },
  {
   "cell_type": "code",
   "execution_count": 34,
   "metadata": {},
   "outputs": [],
   "source": [
    "def tfidf_w2v(sentences, tfidf, tfidf_matrix):\n",
    "    # tfidf feature names\n",
    "    feature_names = tfidf.get_feature_names()\n",
    "    tfidf_w2v = []\n",
    "    for i, sent in enumerate(sentences):\n",
    "        # suppose sentence is empty then making that into vector of zeros\n",
    "        if len(sent.split()) == 0:\n",
    "            tfidf_w2v.append(np.zeros(384))\n",
    "        else:\n",
    "            doc = nlp(sent)\n",
    "            mean_vec = np.zeros(384)\n",
    "            sum_tfidf = 0\n",
    "            for word in doc:\n",
    "                word_vec = word.vector\n",
    "                try:\n",
    "                    tfidf_value = tfidf_matrix[i, feature_names.index(str(word))]\n",
    "                except:\n",
    "                    tfidf_value = 0\n",
    "                mean_vec += word_vec * tfidf_value\n",
    "                sum_tfidf += tfidf_value\n",
    "            if sum_tfidf != 0:\n",
    "                mean_vec /= sum_tfidf\n",
    "            tfidf_w2v.append(mean_vec)\n",
    "        print(i, end='\\r')\n",
    "    return tfidf_w2v"
   ]
  },
  {
   "cell_type": "code",
   "execution_count": 35,
   "metadata": {},
   "outputs": [],
   "source": [
    "nlp = spacy.load('en_core_web_sm')"
   ]
  },
  {
   "cell_type": "code",
   "execution_count": 36,
   "metadata": {},
   "outputs": [
    {
     "name": "stdout",
     "output_type": "stream",
     "text": [
      "Time taken for tfidf_w2v of 32000 questions is 0:15:35.888530\n"
     ]
    }
   ],
   "source": [
    "start = datetime.now()\n",
    "# tfidf_word2vectors of question_1 train data\n",
    "X_tr_tfidf_w2v_q1 = tfidf_w2v(X_tr.pre_question1, tf_q1, tfidf_tr_mat_q1)\n",
    "print(\"Time taken for tfidf_w2v of {} questions is {}\".format(len(X_tr.pre_question1), datetime.now()-start))"
   ]
  },
  {
   "cell_type": "code",
   "execution_count": 37,
   "metadata": {},
   "outputs": [
    {
     "name": "stdout",
     "output_type": "stream",
     "text": [
      "Time taken for tfidf_w2v of 8000 questions is 0:03:33.774227\n"
     ]
    }
   ],
   "source": [
    "start = datetime.now()\n",
    "# tfidf_word2vectors of question_1 train data\n",
    "X_cv_tfidf_w2v_q1 = tfidf_w2v(X_cv.pre_question1, tf_q1, tfidf_cv_mat_q1)\n",
    "print(\"Time taken for tfidf_w2v of {} questions is {}\".format(len(X_cv.pre_question1), datetime.now()-start))"
   ]
  },
  {
   "cell_type": "code",
   "execution_count": 38,
   "metadata": {},
   "outputs": [
    {
     "name": "stdout",
     "output_type": "stream",
     "text": [
      "Time taken for tfidf_w2v of 10000 questions is 0:04:38.407924\n"
     ]
    }
   ],
   "source": [
    "start = datetime.now()\n",
    "# Avg_word2vectors of question_1 test data\n",
    "X_te_tfidf_w2v_q1 = tfidf_w2v(X_test.pre_question1, tf_q1, tfidf_te_mat_q1)\n",
    "print(\"Time taken for tfidf_w2v of {} questions is {}\".format(len(X_test.pre_question1), datetime.now()-start))"
   ]
  },
  {
   "cell_type": "code",
   "execution_count": 39,
   "metadata": {},
   "outputs": [
    {
     "name": "stdout",
     "output_type": "stream",
     "text": [
      "Time taken for tfidf_w2v of 32000 questions is 0:13:51.926583\n"
     ]
    }
   ],
   "source": [
    "start = datetime.now()\n",
    "# tfidf_word2vectors of question_2 train data\n",
    "X_tr_tfidf_w2v_q2 = tfidf_w2v(X_tr.pre_question2, tf_q2, tfidf_tr_mat_q2)\n",
    "print(\"Time taken for tfidf_w2v of {} questions is {}\".format(len(X_tr.pre_question2), datetime.now()-start))"
   ]
  },
  {
   "cell_type": "code",
   "execution_count": 40,
   "metadata": {},
   "outputs": [
    {
     "name": "stdout",
     "output_type": "stream",
     "text": [
      "Time taken for tfidf_w2v of 8000 questions is 0:03:12.046985\n"
     ]
    }
   ],
   "source": [
    "start = datetime.now()\n",
    "# tfidf_word2vectors of question_2 train data\n",
    "X_cv_tfidf_w2v_q2 = tfidf_w2v(X_cv.pre_question2, tf_q2, tfidf_cv_mat_q2)\n",
    "print(\"Time taken for tfidf_w2v of {} questions is {}\".format(len(X_cv.pre_question2), datetime.now()-start))"
   ]
  },
  {
   "cell_type": "code",
   "execution_count": 41,
   "metadata": {},
   "outputs": [
    {
     "name": "stdout",
     "output_type": "stream",
     "text": [
      "Time taken for tfidf_w2v of 10000 questions is 0:04:00.663766\n"
     ]
    }
   ],
   "source": [
    "start = datetime.now()\n",
    "# tfidf_word2vectors of question_2 test data\n",
    "X_te_tfidf_w2v_q2 = tfidf_w2v(X_test.pre_question2, tf_q2, tfidf_te_mat_q2)\n",
    "print(\"Time taken for tfidf_w2v of {} questions is {}\".format(len(X_test.pre_question2), datetime.now()-start))"
   ]
  },
  {
   "cell_type": "code",
   "execution_count": 42,
   "metadata": {},
   "outputs": [],
   "source": [
    "#Making the dataframes for train data\n",
    "df_tr_tfidf_w2v_q1 = pd.DataFrame(X_tr_tfidf_w2v_q1)\n",
    "df_tr_tfidf_w2v_q1 = df_tr_tfidf_w2v_q1.add_suffix('_q1')\n",
    "df_tr_tfidf_w2v_q2 = pd.DataFrame(X_tr_tfidf_w2v_q2)\n",
    "df_tr_tfidf_w2v_q2 = df_tr_tfidf_w2v_q2.add_suffix('_q2')"
   ]
  },
  {
   "cell_type": "code",
   "execution_count": 43,
   "metadata": {},
   "outputs": [
    {
     "data": {
      "text/plain": [
       "(32000, 768)"
      ]
     },
     "execution_count": 43,
     "metadata": {},
     "output_type": "execute_result"
    }
   ],
   "source": [
    "# Final tfidf_w2v train data\n",
    "train_tfidf_w2v_x = pd.concat([df_tr_tfidf_w2v_q1, df_tr_tfidf_w2v_q2], axis=1)\n",
    "train_tfidf_w2v_x.shape"
   ]
  },
  {
   "cell_type": "code",
   "execution_count": 44,
   "metadata": {},
   "outputs": [],
   "source": [
    "#Making the dataframes for cv data\n",
    "df_cv_tfidf_w2v_q1 = pd.DataFrame(X_cv_tfidf_w2v_q1)\n",
    "df_cv_tfidf_w2v_q1 = df_cv_tfidf_w2v_q1.add_suffix('_q1')\n",
    "df_cv_tfidf_w2v_q2 = pd.DataFrame(X_cv_tfidf_w2v_q2)\n",
    "df_cv_tfidf_w2v_q2 = df_cv_tfidf_w2v_q2.add_suffix('_q2')"
   ]
  },
  {
   "cell_type": "code",
   "execution_count": 45,
   "metadata": {},
   "outputs": [
    {
     "data": {
      "text/plain": [
       "(8000, 768)"
      ]
     },
     "execution_count": 45,
     "metadata": {},
     "output_type": "execute_result"
    }
   ],
   "source": [
    "# Final tfidf_w2v cv data\n",
    "eval_tfidf_w2v_x = pd.concat([df_cv_tfidf_w2v_q1, df_cv_tfidf_w2v_q2], axis=1)\n",
    "eval_tfidf_w2v_x.shape"
   ]
  },
  {
   "cell_type": "code",
   "execution_count": 46,
   "metadata": {},
   "outputs": [],
   "source": [
    "#Making the dataframes for test data\n",
    "df_test_tfidf_w2v_q1 = pd.DataFrame(X_te_tfidf_w2v_q1)\n",
    "df_test_tfidf_w2v_q1 = df_test_tfidf_w2v_q1.add_suffix('_q1')\n",
    "df_test_tfidf_w2v_q2 = pd.DataFrame(X_te_tfidf_w2v_q2)\n",
    "df_test_tfidf_w2v_q1 = df_test_tfidf_w2v_q1.add_suffix('_q2')"
   ]
  },
  {
   "cell_type": "code",
   "execution_count": 47,
   "metadata": {},
   "outputs": [
    {
     "data": {
      "text/plain": [
       "(10000, 768)"
      ]
     },
     "execution_count": 47,
     "metadata": {},
     "output_type": "execute_result"
    }
   ],
   "source": [
    "# Final tfidf_w2v test data\n",
    "test_tfidf_w2v_x = pd.concat([df_test_tfidf_w2v_q1, df_test_tfidf_w2v_q2], axis=1)\n",
    "test_tfidf_w2v_x.shape"
   ]
  },
  {
   "cell_type": "code",
   "execution_count": 48,
   "metadata": {},
   "outputs": [],
   "source": [
    "# ############################ tfidf_w2v train, cv and test data parameters ###############################\n",
    "# train_data parameters ====> train_tfidf_w2v_x, y_tr\n",
    "# cv_data parameters    ====> eval_tfidf_w2v_x, y_cv\n",
    "# test_data parameters  ====> test_tfidf_w2v_x, y_test"
   ]
  },
  {
   "cell_type": "code",
   "execution_count": 49,
   "metadata": {},
   "outputs": [
    {
     "data": {
      "text/plain": [
       "((32000, 786), (8000, 786), (10000, 786))"
      ]
     },
     "execution_count": 49,
     "metadata": {},
     "output_type": "execute_result"
    }
   ],
   "source": [
    "train_data = pd.concat([X_tr.drop(['pre_question1','pre_question2'], axis=1).reset_index(drop=True), train_tfidf_w2v_x], axis=1)\n",
    "cv_data = pd.concat([X_cv.drop(['pre_question1','pre_question2'], axis=1).reset_index(drop=True), eval_tfidf_w2v_x], axis=1)\n",
    "test_data = pd.concat([X_test.drop(['pre_question1','pre_question2'], axis=1).reset_index(drop=True), test_tfidf_w2v_x], axis=1)\n",
    "\n",
    "train_data.shape, cv_data.shape, test_data.shape"
   ]
  },
  {
   "cell_type": "code",
   "execution_count": 60,
   "metadata": {},
   "outputs": [],
   "source": [
    "#Function for calculating the metrics\n",
    "def test_metrics(y_test, y_pred):\n",
    "    cm = pd.DataFrame(confusion_matrix(y_test,y_pred),range(2),range(2))\n",
    "    sns.set(font_scale=1.5)\n",
    "    sns.heatmap(cm,annot=True,annot_kws={\"size\": 20}, fmt='g', vmin=0, vmax=10000)\n",
    "\n",
    "    print(\"Accuracy on test data:\", round(accuracy_score(y_test, y_pred) * 100 , 2))\n",
    "    print(\"Precision on test data:\", round(precision_score(y_test, y_pred) * 100 , 2))\n",
    "    print(\"Recall on test data:\", round(recall_score(y_test, y_pred) * 100 , 2))\n",
    "    print(\"F1_score on test data:\", round(f1_score(y_test, y_pred) * 100,2))\n",
    "    plt.xlabel('Predicted Class')\n",
    "    plt.ylabel('Original Class')\n",
    "    plt.show()"
   ]
  },
  {
   "cell_type": "markdown",
   "metadata": {},
   "source": [
    "## Building a Random Model:"
   ]
  },
  {
   "cell_type": "code",
   "execution_count": 61,
   "metadata": {},
   "outputs": [
    {
     "name": "stdout",
     "output_type": "stream",
     "text": [
      "Log loss on Test Data using Random Model 0.8946890361005037\n",
      "Accuracy on test data: 49.87\n",
      "Precision on test data: 36.97\n",
      "Recall on test data: 49.81\n",
      "F1_score on test data: 42.44\n"
     ]
    },
    {
     "data": {
      "image/png": "[encoded data removed]",
      "text/plain": [
       "<Figure size 432x288 with 2 Axes>"
      ]
     },
     "metadata": {},
     "output_type": "display_data"
    }
   ],
   "source": [
    "predicted_y = np.zeros((len(y_test),2))\n",
    "for i in range(len(y_test)):\n",
    "    rand_probs = np.random.rand(1,2)\n",
    "    predicted_y[i] = ((rand_probs/sum(sum(rand_probs)))[0])\n",
    "print(\"Log loss on Test Data using Random Model\",log_loss(y_test, predicted_y, eps=1e-15))\n",
    "\n",
    "predicted_y =np.argmax(predicted_y, axis=1)\n",
    "test_metrics(y_test, predicted_y)"
   ]
  },
  {
   "cell_type": "markdown",
   "metadata": {},
   "source": [
    "## Models Building:"
   ]
  },
  {
   "cell_type": "code",
   "execution_count": 52,
   "metadata": {},
   "outputs": [],
   "source": [
    "def train_model(hyperparameters, train_x, train_y, cv_x, cv_y, loss):\n",
    "    #Finding the best hyperparameter using the cross validation\n",
    "    cv_log_errors = []\n",
    "    train_acc = []\n",
    "    cv_acc = []\n",
    "    for x in hyperparameters:\n",
    "        clf = SGDClassifier(alpha=x, loss=loss, random_state=42, class_weight='balanced')\n",
    "        clf.fit(train_x, train_y)\n",
    "        sig_clf = CalibratedClassifierCV(clf,  method='sigmoid')\n",
    "        sig_clf.fit(train_x, train_y)\n",
    "        predict_y = sig_clf.predict_proba(cv_x)\n",
    "        cv_log_errors.append(log_loss(cv_y, predict_y,labels=clf.classes_, eps=1e-15))\n",
    "        train_acc.append(accuracy_score(train_y, sig_clf.predict(train_x)))\n",
    "        cv_acc.append(accuracy_score(cv_y, sig_clf.predict(cv_x)))\n",
    "        print('For values of alpha = ', x, \"The log loss is:\",log_loss(cv_y, predict_y, labels=clf.classes_, eps=1e-15))\n",
    "    \n",
    "    return cv_log_errors, train_acc, cv_acc"
   ]
  },
  {
   "cell_type": "code",
   "execution_count": 53,
   "metadata": {},
   "outputs": [],
   "source": [
    "### cross_validation loss plot\n",
    "def cv_loss_plot(hyperparameters, cv_errors):\n",
    "    plt.plot(hyperparameters, cv_errors)\n",
    "    plt.title(\"Cross Validation Error for each hyperparameters\")\n",
    "    plt.xlabel(\"Hyperparameters\")\n",
    "    plt.ylabel(\"Error measure\")\n",
    "    plt.show()"
   ]
  },
  {
   "cell_type": "code",
   "execution_count": 54,
   "metadata": {},
   "outputs": [],
   "source": [
    "### Train and cv accuracy plot\n",
    "def train_cv_acc(hyperparameters, train_acc, cv_acc):\n",
    "    plt.plot(hyperparameters, train_acc, label='train')\n",
    "    plt.plot(hyperparameters, cv_acc, label='cv')\n",
    "    plt.title(\"Train_loss vs cv_loss\")\n",
    "    plt.xlabel(\"Hyperparameters\")\n",
    "    plt.ylabel(\"Accuracies\")\n",
    "    plt.legend()\n",
    "    plt.show()"
   ]
  },
  {
   "cell_type": "code",
   "execution_count": 55,
   "metadata": {},
   "outputs": [],
   "source": [
    "#best_alhpha, loss, train_x, train_y, cv_x, cv_y, test_x, test_y\n",
    "def testing_model(best_alhpha, loss, train_x, train_y, cv_x, cv_y, test_x, test_y):\n",
    "    ### Using the best_alpha finding train_loss, cv_loss and test_loss  \n",
    "    clf = SGDClassifier(alpha=best_alpha, loss=loss, random_state=42, class_weight='balanced')\n",
    "    clf.fit(train_x, train_y)\n",
    "    sig_clf = CalibratedClassifierCV(clf,  method='sigmoid')\n",
    "    sig_clf.fit(train_x, train_y)\n",
    "\n",
    "    # training loss \n",
    "    pred_y = sig_clf.predict_proba(train_x)\n",
    "    print(\"Train log_loss with best_hyperparameter\"+str(log_loss(train_y, pred_y, labels=clf.classes_, eps=1e-15)))\n",
    "\n",
    "    # cv_loss \n",
    "    pred_y = sig_clf.predict_proba(cv_x)\n",
    "    print(\"cross validation log_loss with best_hyperparameter\"+str(log_loss(cv_y, pred_y, labels=clf.classes_, eps=1e-15)))\n",
    "\n",
    "    # Test loss \n",
    "    pred_y = sig_clf.predict_proba(test_x)\n",
    "    print(\"Test log_loss with best_hyperparameter\"+str(log_loss(test_y, pred_y, labels=clf.classes_, eps=1e-15)))\n",
    "\n",
    "    y_pred = sig_clf.predict(test_x)\n",
    "\n",
    "    # Calling function for calculating the metrics\n",
    "    print(\"*\"*20, \"performance metrics\", \"*\"*20)\n",
    "    test_metrics(y_test, y_pred)"
   ]
  },
  {
   "cell_type": "code",
   "execution_count": 56,
   "metadata": {},
   "outputs": [],
   "source": [
    "# Standardizing the data\n",
    "scaler = StandardScaler().fit(train_data)\n",
    "train_data_std = scaler.transform(train_data)\n",
    "cv_data_std = scaler.transform(cv_data)\n",
    "test_data_std = scaler.transform(test_data)"
   ]
  },
  {
   "cell_type": "markdown",
   "metadata": {},
   "source": [
    "## 1. Logistic Regression:"
   ]
  },
  {
   "cell_type": "code",
   "execution_count": 62,
   "metadata": {},
   "outputs": [
    {
     "name": "stdout",
     "output_type": "stream",
     "text": [
      "For values of alpha =  1e-05 The log loss is: 0.5751224928733218\n",
      "For values of alpha =  0.0001 The log loss is: 0.5724635618107715\n",
      "For values of alpha =  0.001 The log loss is: 0.5708767366280906\n",
      "For values of alpha =  0.01 The log loss is: 0.5389555093240642\n",
      "For values of alpha =  0.1 The log loss is: 0.5344885907049003\n",
      "For values of alpha =  1 The log loss is: 0.540018264741861\n"
     ]
    },
    {
     "data": {
      "image/png": "[encoded data removed]",
      "text/plain": [
       "<Figure size 432x288 with 1 Axes>"
      ]
     },
     "metadata": {},
     "output_type": "display_data"
    },
    {
     "name": "stdout",
     "output_type": "stream",
     "text": [
      "best_alpha 0.1\n"
     ]
    },
    {
     "data": {
      "image/png": "[encoded data removed]",
      "text/plain": [
       "<Figure size 432x288 with 1 Axes>"
      ]
     },
     "metadata": {},
     "output_type": "display_data"
    },
    {
     "name": "stdout",
     "output_type": "stream",
     "text": [
      "Train log_loss with best_hyperparameter0.5580990185920305\n",
      "cross validation log_loss with best_hyperparameter0.5556680668138968\n",
      "Test log_loss with best_hyperparameter0.5602764225282751\n",
      "******************** performance metrics ********************\n",
      "Accuracy on test data: 68.74\n",
      "Precision on test data: 61.07\n",
      "Recall on test data: 43.42\n",
      "F1_score on test data: 50.76\n"
     ]
    },
    {
     "data": {
      "image/png": "[encoded data removed]",
      "text/plain": [
       "<Figure size 432x288 with 2 Axes>"
      ]
     },
     "metadata": {},
     "output_type": "display_data"
    }
   ],
   "source": [
    "alpha = [10 ** x for x in range(-5,1)]\n",
    "cv_log_errors, train_accuracies, cv_accuracies = train_model(alpha, train_data_std, y_tr, cv_data_std, y_cv, 'log')\n",
    "\n",
    "# cross_validation loss plot\n",
    "cv_loss_plot(alpha, cv_log_errors)\n",
    "\n",
    "# Finding the best alpha\n",
    "best_alpha = np.argmin(cv_log_errors)\n",
    "print(\"best_alpha \"+str(alpha[best_alpha]))\n",
    "\n",
    "# Train and cv accuracy plot\n",
    "train_cv_acc(alpha, train_accuracies, cv_accuracies)\n",
    "\n",
    "# Testing the model with the best_hyperparameter\n",
    "testing_model(best_alpha, 'log', train_data_std, y_tr, cv_data_std, y_cv , test_data_std, y_test)"
   ]
  },
  {
   "cell_type": "markdown",
   "metadata": {},
   "source": [
    "## Linear SVM:"
   ]
  },
  {
   "cell_type": "code",
   "execution_count": 63,
   "metadata": {},
   "outputs": [
    {
     "name": "stdout",
     "output_type": "stream",
     "text": [
      "For values of alpha =  1e-06 The log loss is: 0.5781061955539624\n",
      "For values of alpha =  1e-05 The log loss is: 0.5753170328576437\n",
      "For values of alpha =  0.0001 The log loss is: 0.5728511393899718\n",
      "For values of alpha =  0.001 The log loss is: 0.5708407482716819\n",
      "For values of alpha =  0.01 The log loss is: 0.5420866481528028\n",
      "For values of alpha =  0.1 The log loss is: 0.5395050909113223\n",
      "For values of alpha =  1 The log loss is: 0.540329858406837\n",
      "For values of alpha =  10 The log loss is: 0.552500228064991\n",
      "For values of alpha =  100 The log loss is: 0.5968472497389491\n"
     ]
    },
    {
     "data": {
      "image/png": "[encoded data removed]",
      "text/plain": [
       "<Figure size 432x288 with 1 Axes>"
      ]
     },
     "metadata": {},
     "output_type": "display_data"
    },
    {
     "name": "stdout",
     "output_type": "stream",
     "text": [
      "best_alpha 0.1\n"
     ]
    },
    {
     "data": {
      "image/png": "[encoded data removed]",
      "text/plain": [
       "<Figure size 432x288 with 1 Axes>"
      ]
     },
     "metadata": {},
     "output_type": "display_data"
    },
    {
     "name": "stdout",
     "output_type": "stream",
     "text": [
      "Train log_loss with best_hyperparameter0.5408639673806417\n",
      "cross validation log_loss with best_hyperparameter0.5467643862457778\n",
      "Test log_loss with best_hyperparameter0.5429944219141122\n",
      "******************** performance metrics ********************\n",
      "Accuracy on test data: 69.65\n",
      "Precision on test data: 61.64\n",
      "Recall on test data: 48.17\n",
      "F1_score on test data: 54.08\n"
     ]
    },
    {
     "data": {
      "image/png": "[encoded data removed]",
      "text/plain": [
       "<Figure size 432x288 with 2 Axes>"
      ]
     },
     "metadata": {},
     "output_type": "display_data"
    }
   ],
   "source": [
    "alpha = [10 ** x for x in range(-6, 3)]\n",
    "cv_log_errors, train_accuracies, cv_accuracies = train_model(alpha, train_data_std, y_tr, cv_data_std, y_cv, 'hinge')\n",
    "\n",
    "# cross_validation loss plot\n",
    "cv_loss_plot(alpha, cv_log_errors)\n",
    "\n",
    "# Finding the best alpha\n",
    "best_alpha = np.argmin(cv_log_errors)\n",
    "print(\"best_alpha \"+str(alpha[best_alpha]))\n",
    "\n",
    "# Train and cv accuracy plot\n",
    "train_cv_acc(alpha, train_accuracies, cv_accuracies)\n",
    "\n",
    "# Testing the model with the best_hyperparameter\n",
    "testing_model(best_alpha, 'hinge', train_data_std, y_tr, cv_data_std, y_cv , test_data_std, y_test)"
   ]
  },
  {
   "cell_type": "markdown",
   "metadata": {},
   "source": [
    "## 2. Random Forest:"
   ]
  },
  {
   "cell_type": "code",
   "execution_count": 64,
   "metadata": {},
   "outputs": [
    {
     "name": "stdout",
     "output_type": "stream",
     "text": [
      "For n_estimators= 100 and max_depth= 5\n",
      "Log loss: 0.5248022215660264\n",
      "For n_estimators= 100 and max_depth= 10\n",
      "Log loss: 0.514006025379395\n",
      "For n_estimators= 500 and max_depth= 5\n",
      "Log loss: 0.524118787458757\n",
      "For n_estimators= 500 and max_depth= 10\n",
      "Log loss: 0.5128715438650715\n",
      "For n_estimators= 1000 and max_depth= 5\n",
      "Log loss: 0.5239354878731352\n",
      "For n_estimators= 1000 and max_depth= 10\n",
      "Log loss: 0.5127310545855814\n",
      "For n_estimators= 1500 and max_depth= 5\n",
      "Log loss: 0.5239493298839998\n",
      "For n_estimators= 1500 and max_depth= 10\n",
      "Log loss: 0.5128083354139961\n",
      "Train log_loss with best_hyperparameter0.3552919671479046\n",
      "cross validation log_loss with best_hyperparameter0.5127310545855814\n",
      "Test log_loss with best_hyperparameter0.49390344671916453\n",
      "******************** performance metrics ********************\n",
      "Accuracy on test data: 73.51\n",
      "Precision on test data: 64.43\n",
      "Recall on test data: 63.85\n",
      "F1_score on test data: 64.14\n"
     ]
    },
    {
     "data": {
      "image/png": "[encoded data removed]",
      "text/plain": [
       "<Figure size 432x288 with 2 Axes>"
      ]
     },
     "metadata": {},
     "output_type": "display_data"
    }
   ],
   "source": [
    "#train_avg_w2v_x, y_tr, eval_avg_w2v_x, y_cv , test_avg_w2v_x, y_test\n",
    "num_trees = [100, 500, 1000, 1500]\n",
    "max_depth = [5, 10]\n",
    "cv_log_errors = []\n",
    "for trees in num_trees:\n",
    "    for depth in max_depth:\n",
    "        print(\"For n_estimators=\", trees,  \"and max_depth=\", depth)\n",
    "        clf = RandomForestClassifier(n_estimators=trees, criterion='gini',  max_depth=depth, random_state=42, n_jobs=3)\n",
    "        clf.fit(train_data_std, y_tr)\n",
    "        sig_clf = CalibratedClassifierCV(clf, method=\"sigmoid\")\n",
    "        sig_clf.fit(train_data_std, y_tr)\n",
    "        sig_clf_probs = sig_clf.predict_proba(cv_data_std)\n",
    "        cv_log_errors.append(log_loss(y_cv, sig_clf_probs))\n",
    "        print(\"Log loss:\", log_loss(y_cv, sig_clf_probs, labels=clf.classes_, eps=1e-15))\n",
    "\n",
    "#Training the model using the best hyperparameter\n",
    "best_params = np.argmin(cv_log_errors)\n",
    "clf = RandomForestClassifier(n_estimators=num_trees[int(best_params/2)], criterion='gini',  max_depth=max_depth[int(best_params%2)], random_state=42, n_jobs=3)\n",
    "clf.fit(train_data_std, y_tr)\n",
    "sig_clf = CalibratedClassifierCV(clf, method=\"sigmoid\")\n",
    "sig_clf.fit(train_data_std, y_tr)\n",
    "\n",
    "# training loss \n",
    "pred_y = sig_clf.predict_proba(train_data_std)\n",
    "print(\"Train log_loss with best_hyperparameter\"+str(log_loss(y_tr, pred_y, labels=clf.classes_, eps=1e-15)))\n",
    "\n",
    "# cv_loss \n",
    "pred_y = sig_clf.predict_proba(cv_data_std)\n",
    "print(\"cross validation log_loss with best_hyperparameter\"+str(log_loss(y_cv, pred_y, labels=clf.classes_, eps=1e-15)))\n",
    "\n",
    "# Test loss \n",
    "pred_y = sig_clf.predict_proba(test_data_std)\n",
    "print(\"Test log_loss with best_hyperparameter\"+str(log_loss(y_test, pred_y, labels=clf.classes_, eps=1e-15)))\n",
    "\n",
    "y_pred = sig_clf.predict(test_data_std)\n",
    "\n",
    "# Calling function for calculating the metrics\n",
    "print(\"*\"*20, \"performance metrics\", \"*\"*20)\n",
    "test_metrics(y_test, y_pred)"
   ]
  },
  {
   "cell_type": "markdown",
   "metadata": {},
   "source": [
    "## xgboost:"
   ]
  },
  {
   "cell_type": "code",
   "execution_count": 69,
   "metadata": {},
   "outputs": [],
   "source": [
    "dtrain = xgb.DMatrix(train_data_std, label=y_tr)\n",
    "dtest  = xgb.DMatrix(test_data_std)"
   ]
  },
  {
   "cell_type": "code",
   "execution_count": 70,
   "metadata": {},
   "outputs": [],
   "source": [
    "params = {'objective':'binary:logistic',\n",
    "         'max_depth':4,\n",
    "         'silent':1,\n",
    "         'eta':0.15,\n",
    "        'eval_metric' : 'logloss'}\n",
    "num_rounds = 150"
   ]
  },
  {
   "cell_type": "code",
   "execution_count": 71,
   "metadata": {},
   "outputs": [],
   "source": [
    "ratio = float(np.sum(y==0)) / np.sum(y==1)\n",
    "params['scale_pos_weight'] = ratio"
   ]
  },
  {
   "cell_type": "code",
   "execution_count": 72,
   "metadata": {},
   "outputs": [
    {
     "name": "stdout",
     "output_type": "stream",
     "text": [
      "The test log loss is: 0.4782615309052009\n"
     ]
    }
   ],
   "source": [
    "bst = xgb.train(params, dtrain, num_rounds)\n",
    "#y_test_preds = (bst.predict(dtest)>0.5).astype('int')\n",
    "predict_y = bst.predict(d_test)\n",
    "print(\"The test log loss is:\",log_loss(y_test, predict_y, labels=clf.classes_, eps=1e-15))"
   ]
  }
 ],
 "metadata": {
  "kernelspec": {
   "display_name": "Python 3",
   "language": "python",
   "name": "python3"
  },
  "language_info": {
   "codemirror_mode": {
    "name": "ipython",
    "version": 3
   },
   "file_extension": ".py",
   "mimetype": "text/x-python",
   "name": "python",
   "nbconvert_exporter": "python",
   "pygments_lexer": "ipython3",
   "version": "3.6.7"
  }
 },
 "nbformat": 4,
 "nbformat_minor": 2
}
